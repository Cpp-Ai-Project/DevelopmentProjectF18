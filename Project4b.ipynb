'''
  California Polytechnic State University, Pomona - AI Dev Team
  Team 3
  Project 4b - Radix Sort with Strings
  Authors:
    Jake Wagner
    Chris Rauch
    Colby Le
    Zack Muraca
    
    This Radix Sort algorithm will sort all of the words from the associated
    file "BookText.txt" into alphabetic order. Note: should use 26 buckets.
'''
path = "BookText.txt"


#create buckets(26) and list
buckets = [[],[],[],[],[],[],[],[],[],[],[],[],[],[],[],[],[],[],[],[],[],[],[],[],[],[]]
wordList = []


#First open the file and get all text
theFile = open(path, r)
text = theFile.read()
theFile.close()


#prepare and then parse the string saving each word
text.lower()
text.translate(None, string.punctuation)
wordList = text.split(" ")


#find max/ analyze length/ pad with spaces
max = ""
for i in range(0,len(wordList)):
  if(len(wordList[i]) >len(max)):
    max = wordList[i]
    
print("Length of max element: " + str(len(max)))
maxLength = len(max)

for i in range(0,len(wordList)):
  wordList[i] = wordList[i].rjust(maxLength)
  
  
i = 0
while i < maxLength:
  #fill buckets
  for j in range(0,len(wordList)):
    if(i == ' '):
      buckets[int(wordList[j][-1*(i+1):])].append(wordList[j])
    else:
      buckets[int(wordList[j][-1*(i+1):-1*i])].append(wordList[j])
  wordList.clear()
  #empty buckets
  for j in range(0,26):
    for k in range(0,len(buckets[j])):
      wordList.append(buckets[j].pop(0))
  
  i+=1
  
print(wordList)
#end Project4b.ipynb
